{
 "cells": [
  {
   "cell_type": "markdown",
   "metadata": {},
   "source": [
    "## Setup"
   ]
  },
  {
   "cell_type": "code",
   "execution_count": 1,
   "metadata": {
    "ExecuteTime": {
     "end_time": "2019-01-14T20:25:28.559642Z",
     "start_time": "2019-01-14T20:25:28.216516Z"
    }
   },
   "outputs": [],
   "source": [
    "# load code\n",
    "file = open(\"./dummy_nn.py\")\n",
    "exec(file.read())\n",
    "file.close()"
   ]
  },
  {
   "cell_type": "code",
   "execution_count": 2,
   "metadata": {
    "ExecuteTime": {
     "end_time": "2019-01-14T20:25:29.238344Z",
     "start_time": "2019-01-14T20:25:28.561281Z"
    }
   },
   "outputs": [],
   "source": [
    "# generate data\n",
    "X_train, y_train = generate_data(2**16)\n",
    "X_test, y_test = generate_data(2**10)"
   ]
  },
  {
   "cell_type": "code",
   "execution_count": 3,
   "metadata": {
    "ExecuteTime": {
     "end_time": "2019-01-14T20:25:29.254527Z",
     "start_time": "2019-01-14T20:25:29.240455Z"
    }
   },
   "outputs": [
    {
     "data": {
      "text/plain": [
       "0.6484375"
      ]
     },
     "execution_count": 3,
     "metadata": {},
     "output_type": "execute_result"
    }
   ],
   "source": [
    "# note that that a predictor that always predicts that\n",
    "# a number is not divisible by 3 would have accuracy\n",
    "1 - sum(y_test)/len(y_test)"
   ]
  },
  {
   "cell_type": "markdown",
   "metadata": {
    "ExecuteTime": {
     "end_time": "2019-01-13T17:07:48.499670Z",
     "start_time": "2019-01-13T17:07:36.811650Z"
    }
   },
   "source": [
    "## One hidden layer"
   ]
  },
  {
   "cell_type": "code",
   "execution_count": 4,
   "metadata": {
    "ExecuteTime": {
     "end_time": "2019-01-14T20:25:29.411588Z",
     "start_time": "2019-01-14T20:25:29.256365Z"
    }
   },
   "outputs": [],
   "source": [
    "# generate list of hidden layer sizes to try\n",
    "sizes = [4*i for i in range(1, n_bits//3+1)]\n",
    "ls = len(sizes)\n",
    "hls_list = [tuple([s]) for s in sizes]"
   ]
  },
  {
   "cell_type": "code",
   "execution_count": 5,
   "metadata": {
    "ExecuteTime": {
     "end_time": "2019-01-14T20:26:01.722787Z",
     "start_time": "2019-01-14T20:25:29.416658Z"
    }
   },
   "outputs": [
    {
     "name": "stdout",
     "output_type": "stream",
     "text": [
      "(4,) 0.6484375\n",
      "(8,) 0.6455078125\n",
      "(12,) 0.6474609375\n",
      "(16,) 0.6484375\n",
      "(20,) 0.6484375\n",
      "(24,) 0.6396484375\n"
     ]
    }
   ],
   "source": [
    "# loop over different sizes and print accuracy on test set\n",
    "for j in hls_list:\n",
    "    a = accuracy_hls_config(X_train, y_train, X_test, y_test, hls=j, alpha=0.001)\n",
    "    print(j,a)"
   ]
  },
  {
   "cell_type": "markdown",
   "metadata": {
    "ExecuteTime": {
     "end_time": "2019-01-13T17:13:05.447131Z",
     "start_time": "2019-01-13T17:13:05.443451Z"
    }
   },
   "source": [
    "## Two hidden layers"
   ]
  },
  {
   "cell_type": "code",
   "execution_count": 6,
   "metadata": {
    "ExecuteTime": {
     "end_time": "2019-01-14T20:26:01.726545Z",
     "start_time": "2019-01-14T20:26:01.724341Z"
    }
   },
   "outputs": [],
   "source": [
    "# set up 2D matrix to record accuracies of different hls configurations\n",
    "acc_matrix = np.zeros((ls, ls))"
   ]
  },
  {
   "cell_type": "code",
   "execution_count": 7,
   "metadata": {
    "ExecuteTime": {
     "end_time": "2019-01-14T20:32:11.765486Z",
     "start_time": "2019-01-14T20:26:01.728125Z"
    }
   },
   "outputs": [],
   "source": [
    "# loop over different hls configurations\n",
    "for i in range(ls):\n",
    "    for j in range(ls):\n",
    "        acc_matrix[i, j] = accuracy_hls_config(X_train, y_train, X_test, y_test, hls=(sizes[i], sizes[j]), alpha=0.001)"
   ]
  },
  {
   "cell_type": "code",
   "execution_count": 8,
   "metadata": {
    "ExecuteTime": {
     "end_time": "2019-01-14T20:32:11.771735Z",
     "start_time": "2019-01-14T20:32:11.767076Z"
    }
   },
   "outputs": [
    {
     "name": "stdout",
     "output_type": "stream",
     "text": [
      "[[0.72  0.777 0.648 0.766 0.647 0.648]\n",
      " [0.651 0.764 0.768 0.647 0.772 0.82 ]\n",
      " [0.648 0.646 0.845 0.724 0.648 0.95 ]\n",
      " [0.648 0.784 0.837 0.647 0.649 0.647]\n",
      " [0.76  0.649 0.69  0.858 0.646 0.756]\n",
      " [0.833 0.642 0.828 0.911 0.694 0.791]]\n"
     ]
    }
   ],
   "source": [
    "print(np.array2string(acc_matrix, precision=3))"
   ]
  },
  {
   "cell_type": "markdown",
   "metadata": {},
   "source": [
    "## More hidden layers"
   ]
  },
  {
   "cell_type": "code",
   "execution_count": 9,
   "metadata": {
    "ExecuteTime": {
     "end_time": "2019-01-14T20:32:34.143883Z",
     "start_time": "2019-01-14T20:32:11.773502Z"
    }
   },
   "outputs": [],
   "source": [
    "# try NNs with more hidden layers\n",
    "acc_three_hl = accuracy_hls_config(X_train, y_train, X_test, y_test, hls=(sizes[2], sizes[1], sizes[0]))\n",
    "acc_four_hl = accuracy_hls_config(X_train, y_train, X_test, y_test, hls=(sizes[3], sizes[2], sizes[1], sizes[0]))"
   ]
  },
  {
   "cell_type": "code",
   "execution_count": 10,
   "metadata": {
    "ExecuteTime": {
     "end_time": "2019-01-14T20:32:34.149278Z",
     "start_time": "2019-01-14T20:32:34.145482Z"
    }
   },
   "outputs": [
    {
     "name": "stdout",
     "output_type": "stream",
     "text": [
      "0.7158203125 0.6376953125\n"
     ]
    }
   ],
   "source": [
    "print(acc_three_hl, acc_four_hl)"
   ]
  },
  {
   "cell_type": "markdown",
   "metadata": {},
   "source": [
    "## Decision tree"
   ]
  },
  {
   "cell_type": "code",
   "execution_count": 11,
   "metadata": {
    "ExecuteTime": {
     "end_time": "2019-01-14T20:32:34.527240Z",
     "start_time": "2019-01-14T20:32:34.150855Z"
    }
   },
   "outputs": [
    {
     "data": {
      "text/plain": [
       "0.5576171875"
      ]
     },
     "execution_count": 11,
     "metadata": {},
     "output_type": "execute_result"
    }
   ],
   "source": [
    "# try a decision tree\n",
    "acc_tree = accuracy_tree(X_train, y_train, X_test, y_test)\n",
    "acc_tree"
   ]
  },
  {
   "cell_type": "markdown",
   "metadata": {},
   "source": [
    "## Regularisation parameter"
   ]
  },
  {
   "cell_type": "code",
   "execution_count": 12,
   "metadata": {
    "ExecuteTime": {
     "end_time": "2019-01-14T20:32:34.536357Z",
     "start_time": "2019-01-14T20:32:34.529442Z"
    }
   },
   "outputs": [],
   "source": [
    "# it seems that two layers work best, where the first layer has the \n",
    "# size of the input; now try different rugularisation parameters\n",
    "alphas = [0.000003, 0.00001, 0.00003, 0.0001, 0.0003, 0.001, 0.003, 0.01, 0.03, 0.1, 0.3]\n",
    "la = len(alphas)\n",
    "acc_matrix = np.zeros((ls, la))"
   ]
  },
  {
   "cell_type": "code",
   "execution_count": 13,
   "metadata": {
    "ExecuteTime": {
     "end_time": "2019-01-14T20:46:59.184822Z",
     "start_time": "2019-01-14T20:32:34.538819Z"
    }
   },
   "outputs": [],
   "source": [
    "for i in range(ls):\n",
    "    for j in range(la):\n",
    "        acc_matrix[i, j] = accuracy_hls_config(X_train, y_train, X_test, y_test, hls=(n_bits, sizes[i]), alpha=alphas[j])"
   ]
  },
  {
   "cell_type": "code",
   "execution_count": 14,
   "metadata": {
    "ExecuteTime": {
     "end_time": "2019-01-14T20:46:59.191007Z",
     "start_time": "2019-01-14T20:46:59.186585Z"
    }
   },
   "outputs": [
    {
     "name": "stdout",
     "output_type": "stream",
     "text": [
      "[[0.803 0.647 0.648 0.648 0.731 0.877 0.737 0.645 0.648 0.64  0.653]\n",
      " [0.703 0.654 0.648 0.648 0.648 0.645 0.747 0.709 0.821 0.666 0.874]\n",
      " [0.727 0.786 0.702 0.648 0.863 0.767 0.642 0.648 0.645 0.644 0.682]\n",
      " [0.834 0.705 0.815 0.871 0.809 0.773 0.647 0.803 0.752 0.729 0.747]\n",
      " [0.644 0.642 0.642 0.73  0.817 0.799 0.701 0.867 0.646 0.645 0.642]\n",
      " [0.712 0.747 0.645 0.645 0.641 0.869 0.873 0.646 0.873 0.857 0.764]]\n"
     ]
    }
   ],
   "source": [
    "print(np.array2string(acc_matrix, precision=3))"
   ]
  },
  {
   "cell_type": "markdown",
   "metadata": {},
   "source": [
    "(never mind)"
   ]
  },
  {
   "cell_type": "code",
   "execution_count": null,
   "metadata": {},
   "outputs": [],
   "source": []
  }
 ],
 "metadata": {
  "kernelspec": {
   "display_name": "Python 3",
   "language": "python",
   "name": "python3"
  },
  "language_info": {
   "codemirror_mode": {
    "name": "ipython",
    "version": 3
   },
   "file_extension": ".py",
   "mimetype": "text/x-python",
   "name": "python",
   "nbconvert_exporter": "python",
   "pygments_lexer": "ipython3",
   "version": "3.6.4"
  },
  "varInspector": {
   "cols": {
    "lenName": 16,
    "lenType": 16,
    "lenVar": 40
   },
   "kernels_config": {
    "python": {
     "delete_cmd_postfix": "",
     "delete_cmd_prefix": "del ",
     "library": "var_list.py",
     "varRefreshCmd": "print(var_dic_list())"
    },
    "r": {
     "delete_cmd_postfix": ") ",
     "delete_cmd_prefix": "rm(",
     "library": "var_list.r",
     "varRefreshCmd": "cat(var_dic_list()) "
    }
   },
   "types_to_exclude": [
    "module",
    "function",
    "builtin_function_or_method",
    "instance",
    "_Feature"
   ],
   "window_display": false
  }
 },
 "nbformat": 4,
 "nbformat_minor": 2
}

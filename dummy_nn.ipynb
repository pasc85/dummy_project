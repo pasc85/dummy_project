{
 "cells": [
  {
   "cell_type": "markdown",
   "metadata": {},
   "source": [
    "## Setup"
   ]
  },
  {
   "cell_type": "code",
   "execution_count": 1,
   "metadata": {
    "ExecuteTime": {
     "end_time": "2019-01-13T20:25:37.624869Z",
     "start_time": "2019-01-13T20:25:37.215599Z"
    }
   },
   "outputs": [],
   "source": [
    "# load code\n",
    "file = open(\"./dummy_nn.py\")\n",
    "exec(file.read())\n",
    "file.close()"
   ]
  },
  {
   "cell_type": "code",
   "execution_count": 2,
   "metadata": {
    "ExecuteTime": {
     "end_time": "2019-01-13T20:25:37.844444Z",
     "start_time": "2019-01-13T20:25:37.626651Z"
    }
   },
   "outputs": [],
   "source": [
    "# generate data\n",
    "X_train, y_train = generate_data(2**14)\n",
    "X_test, y_test = generate_data(2**10)"
   ]
  },
  {
   "cell_type": "code",
   "execution_count": 3,
   "metadata": {
    "ExecuteTime": {
     "end_time": "2019-01-13T20:25:37.865405Z",
     "start_time": "2019-01-13T20:25:37.846471Z"
    }
   },
   "outputs": [
    {
     "data": {
      "text/plain": [
       "0.68359375"
      ]
     },
     "execution_count": 3,
     "metadata": {},
     "output_type": "execute_result"
    }
   ],
   "source": [
    "# note that that a predictor that always predicts that\n",
    "# a number is not divisible by 3 would have accuracy\n",
    "1 - sum(y_test)/len(y_test)"
   ]
  },
  {
   "cell_type": "markdown",
   "metadata": {
    "ExecuteTime": {
     "end_time": "2019-01-13T17:07:48.499670Z",
     "start_time": "2019-01-13T17:07:36.811650Z"
    }
   },
   "source": [
    "## One hidden layer"
   ]
  },
  {
   "cell_type": "code",
   "execution_count": 4,
   "metadata": {
    "ExecuteTime": {
     "end_time": "2019-01-13T20:25:37.966129Z",
     "start_time": "2019-01-13T20:25:37.867413Z"
    }
   },
   "outputs": [],
   "source": [
    "# generate list configurations to try as hidden layer sizes\n",
    "sizes = [4*i for i in range(1, n_bits//3)]\n",
    "ls = len(sizes)\n",
    "hls_list = [tuple([s]) for s in sizes]"
   ]
  },
  {
   "cell_type": "code",
   "execution_count": 5,
   "metadata": {
    "ExecuteTime": {
     "end_time": "2019-01-13T20:25:47.885827Z",
     "start_time": "2019-01-13T20:25:37.968265Z"
    }
   },
   "outputs": [
    {
     "name": "stdout",
     "output_type": "stream",
     "text": [
      "(4,) 0.68359375\n",
      "(8,) 0.6875\n",
      "(12,) 0.6669921875\n",
      "(16,) 0.6728515625\n",
      "(20,) 0.6572265625\n",
      "(24,) 0.6630859375\n"
     ]
    }
   ],
   "source": [
    "for j in hls_list:\n",
    "    a = accuracy_hls_config(X_train, y_train, X_test, y_test, hls=j)\n",
    "    print(j,a)"
   ]
  },
  {
   "cell_type": "markdown",
   "metadata": {
    "ExecuteTime": {
     "end_time": "2019-01-13T17:13:05.447131Z",
     "start_time": "2019-01-13T17:13:05.443451Z"
    }
   },
   "source": [
    "## Two hidden layers"
   ]
  },
  {
   "cell_type": "code",
   "execution_count": 6,
   "metadata": {
    "ExecuteTime": {
     "end_time": "2019-01-13T20:25:47.892723Z",
     "start_time": "2019-01-13T20:25:47.888749Z"
    }
   },
   "outputs": [],
   "source": [
    "acc_matrix = np.zeros((ls, ls))"
   ]
  },
  {
   "cell_type": "code",
   "execution_count": 7,
   "metadata": {
    "ExecuteTime": {
     "end_time": "2019-01-13T20:27:25.974796Z",
     "start_time": "2019-01-13T20:25:47.895333Z"
    }
   },
   "outputs": [],
   "source": [
    "for i in range(ls):\n",
    "    for j in range(ls):\n",
    "        acc_matrix[i, j] = accuracy_hls_config(X_train, y_train, X_test, y_test, hls=(sizes[i], sizes[j]))"
   ]
  },
  {
   "cell_type": "code",
   "execution_count": 8,
   "metadata": {
    "ExecuteTime": {
     "end_time": "2019-01-13T20:27:25.980754Z",
     "start_time": "2019-01-13T20:27:25.976385Z"
    }
   },
   "outputs": [
    {
     "name": "stdout",
     "output_type": "stream",
     "text": [
      "[[0.763 0.679 0.684 0.778 0.683 0.685]\n",
      " [0.686 0.675 0.684 0.661 0.676 0.665]\n",
      " [0.667 0.659 0.659 0.674 0.664 0.649]\n",
      " [0.684 0.656 0.654 0.65  0.668 0.653]\n",
      " [0.682 0.649 0.656 0.66  0.662 0.656]\n",
      " [0.651 0.663 0.63  0.618 0.887 0.64 ]]\n"
     ]
    }
   ],
   "source": [
    "print(np.array2string(acc_matrix, precision=3))"
   ]
  },
  {
   "cell_type": "markdown",
   "metadata": {},
   "source": [
    "## Three hidden layers"
   ]
  },
  {
   "cell_type": "code",
   "execution_count": 9,
   "metadata": {
    "ExecuteTime": {
     "end_time": "2019-01-13T20:27:28.524970Z",
     "start_time": "2019-01-13T20:27:25.983304Z"
    }
   },
   "outputs": [],
   "source": [
    "acc_three_hl = accuracy_hls_config(X_train, y_train, X_test, y_test, hls=(sizes[2], sizes[1], sizes[0]))"
   ]
  },
  {
   "cell_type": "code",
   "execution_count": 10,
   "metadata": {
    "ExecuteTime": {
     "end_time": "2019-01-13T20:27:28.531848Z",
     "start_time": "2019-01-13T20:27:28.526847Z"
    }
   },
   "outputs": [
    {
     "data": {
      "text/plain": [
       "0.6689453125"
      ]
     },
     "execution_count": 10,
     "metadata": {},
     "output_type": "execute_result"
    }
   ],
   "source": [
    "acc_three_hl"
   ]
  },
  {
   "cell_type": "code",
   "execution_count": null,
   "metadata": {},
   "outputs": [],
   "source": []
  }
 ],
 "metadata": {
  "kernelspec": {
   "display_name": "Python 3",
   "language": "python",
   "name": "python3"
  },
  "language_info": {
   "codemirror_mode": {
    "name": "ipython",
    "version": 3
   },
   "file_extension": ".py",
   "mimetype": "text/x-python",
   "name": "python",
   "nbconvert_exporter": "python",
   "pygments_lexer": "ipython3",
   "version": "3.6.4"
  },
  "varInspector": {
   "cols": {
    "lenName": 16,
    "lenType": 16,
    "lenVar": 40
   },
   "kernels_config": {
    "python": {
     "delete_cmd_postfix": "",
     "delete_cmd_prefix": "del ",
     "library": "var_list.py",
     "varRefreshCmd": "print(var_dic_list())"
    },
    "r": {
     "delete_cmd_postfix": ") ",
     "delete_cmd_prefix": "rm(",
     "library": "var_list.r",
     "varRefreshCmd": "cat(var_dic_list()) "
    }
   },
   "types_to_exclude": [
    "module",
    "function",
    "builtin_function_or_method",
    "instance",
    "_Feature"
   ],
   "window_display": false
  }
 },
 "nbformat": 4,
 "nbformat_minor": 2
}
